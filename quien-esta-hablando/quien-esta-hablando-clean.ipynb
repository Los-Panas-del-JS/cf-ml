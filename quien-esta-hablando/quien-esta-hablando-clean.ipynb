{
 "cells": [
  {
   "cell_type": "markdown",
   "metadata": {
    "id": "zfIMmc8OCW7U"
   },
   "source": [
    "# ¿Quién está hablando? – AMLO vs HLG"
   ]
  },
  {
   "cell_type": "markdown",
   "metadata": {
    "id": "JvlJTK9lCW7Z"
   },
   "source": [
    "## Nuestro problema"
   ]
  },
  {
   "cell_type": "markdown",
   "metadata": {
    "id": "FKCVPCQfCW7Z"
   },
   "source": [
    "Vamos a estar trabajando con un dataset que hice yo mismo a partir de mi [dataset de las conferencias de prensa mañaneras del presidente de México](https://www.kaggle.com/ioexception/mananeras) (ve cómo es que cree este dataset en [este notebook](https://www.kaggle.com/ioexception/extraer-di-logos-de-amlo-y-l-pez-gatell)), contiene diálogos emitidos por el presidente de México y el sub-secretario de salud, Hugo López-Gatell.\n",
    "\n",
    "Piensa que tienes un cientos de miles de documentos que contienen diálogos transcripciones de entrevistas (llevadas a cabo en persona, por teléfono y por escrito), pero estas no están etiquetadas con los interlocutores, tu tarea es tratar de identificar quiénes son las personas que están interactuando en ellas.\n",
    "\n",
    "**La tarea que tenemos que lograr el día de hoy es identificar a la persona que está hablando a partir de las palabras que dijo.**\n",
    "\n",
    "Durante este ejercicio les hablaré un poquito más del dataset y su relación con lo que vimos en el curso de introducción al aprendizaje automático disponible bajo demanda aquí en esta misma plataforma.\n",
    "\n",
    "Puedes ver los paquetes que vamos a usar en el archivo `Pipfile`, estos están listados en la sección de dependencias.\n",
    "\n",
    "(Agruparé las dependencias en una sola celda para preservar un poco de orden, sin embargo mencionaré en dónde las podemos ocupar más adelante)"
   ]
  },
  {
   "cell_type": "code",
   "execution_count": null,
   "metadata": {
    "id": "-EiEJ-qPCW7Z"
   },
   "outputs": [],
   "source": [
    "import string\n",
    "\n",
    "import numpy as np\n",
    "import pandas as pd\n",
    "import seaborn as sns\n",
    "import matplotlib.pyplot as plt\n",
    "import nltk\n",
    "from nltk.corpus import stopwords\n",
    "from unidecode import unidecode"
   ]
  },
  {
   "cell_type": "code",
   "execution_count": null,
   "metadata": {
    "colab": {
     "base_uri": "https://localhost:8080/"
    },
    "id": "WHL4v5HMDzL4",
    "outputId": "2466f78d-9edb-4d92-c1e6-3f4dede290da"
   },
   "outputs": [],
   "source": [
    "# Descarga información necesaria para el pre-procesamiento\n",
    "nltk.download('stopwords')"
   ]
  },
  {
   "cell_type": "code",
   "execution_count": null,
   "metadata": {
    "colab": {
     "base_uri": "https://localhost:8080/",
     "height": 204
    },
    "id": "CQ2Irn2JCW7a",
    "outputId": "457c3487-06e4-44bc-a67d-787debd85d66"
   },
   "outputs": [],
   "source": [
    "dialogs = pd.read_csv(\"dialogs.csv\", error_bad_lines=False)\n",
    "dialogs.head()"
   ]
  },
  {
   "cell_type": "code",
   "execution_count": null,
   "metadata": {},
   "outputs": [],
   "source": []
  }
 ],
 "metadata": {
  "colab": {
   "collapsed_sections": [],
   "name": "¿Quién está hablando? – AMLO vs HLG.ipynb",
   "provenance": [],
   "toc_visible": true
  },
  "kernelspec": {
   "display_name": "default:Python",
   "language": "python",
   "name": "conda-env-default-py"
  },
  "language_info": {
   "codemirror_mode": {
    "name": "ipython",
    "version": 3
   },
   "file_extension": ".py",
   "mimetype": "text/x-python",
   "name": "python",
   "nbconvert_exporter": "python",
   "pygments_lexer": "ipython3",
   "version": "3.9.7"
  }
 },
 "nbformat": 4,
 "nbformat_minor": 4
}
